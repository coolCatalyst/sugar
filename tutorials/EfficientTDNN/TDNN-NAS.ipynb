{
 "cells": [
  {
   "cell_type": "markdown",
   "metadata": {},
   "source": [
    "# TDNN-NAS\n",
    "\n",
    "TDNN-NAS aims to search for the special networks that meets the specific constraints. This tutorial will show how to employ the TDNN-NAS to achieve the search objective via either random algorithm or model predictive evolutionary algorithm (MPEA). \n",
    "\n",
    "Taking the coarse search space as an example, we demonstrate as follows.\n",
    "\n",
    "1. Randomly sample a subnet from the trained supernet.\n",
    "2. Apply MPEA to found the subnet that satifies the specific constraint, such as GPU latency.\n",
    "\n",
    "More details about search implementation can be found in [EfficientTDNN](https://arxiv.org/abs/2103.13581)."
   ]
  },
  {
   "cell_type": "code",
   "execution_count": null,
   "metadata": {},
   "outputs": [],
   "source": [
    "import warnings, random\n",
    "warnings.filterwarnings(\"ignore\")\n",
    "random.seed(666)\n",
    "import numpy, pandas\n",
    "import matplotlib.pyplot as plt\n",
    "import torch\n",
    "from torch.utils.data import DataLoader\n",
    "from sugar.models.dynamictdnn import (\n",
    "    TDNNPath, TDNNLatency, AccuracyPredictor, MinimizeError, ArchCoder, config2d, ea_solve)\n",
    "from sugar.models import SpeakerModel, WrappedModel, veri_validate, batch_forward\n",
    "from sugar.database import AugmentedUtterance\n",
    "from sugar.data.voxceleb1 import veriset\n",
    "from sugar.data.voxceleb2 import veritrain\n",
    "from sugar.data.augmentation import augset\n",
    "from sugar.metrics import print_size_of_model, profile, latency\n",
    "from tqdm.notebook import tqdm"
   ]
  },
  {
   "cell_type": "code",
   "execution_count": 2,
   "metadata": {},
   "outputs": [],
   "source": [
    "device = 'cuda:3'"
   ]
  },
  {
   "cell_type": "markdown",
   "metadata": {},
   "source": [
    "## Randomly sampled subnets\n",
    "\n",
    "This section shows how sample a subnet randomly from the trained supernet, e.g., `width2/width2.torchparams`.\n",
    "\n",
    "1. Prepare the trained supernet.\n",
    "2. Establish the coarse search space with kernel {1, 3, 5}, depth {2, 3, 4}, and width {0.25, 0.35, 0.5, 0.75, 1.0}.\n",
    "3. Activate a subnet given a randomly sampled path.\n",
    "4. Calibrate the batchnorm along the path via 6000 augmented training utterances.\n",
    "5. Evaluate the subnet on the VoxCeleb1 clean test set, i.e., Vox1-O test set.\n",
    "\n",
    "Note that the weights of the used supernet are downloaded from [huggingface](https://huggingface.co/mechanicalsea/efficient-tdnn).\n",
    "\n",
    "### Prepare the trained supernet\n",
    "\n",
    "We consider the training stage of width 2 and download the weights using huggingface hub."
   ]
  },
  {
   "cell_type": "code",
   "execution_count": 3,
   "metadata": {},
   "outputs": [],
   "source": [
    "repo_id = \"mechanicalsea/efficient-tdnn\"\n",
    "supernet_filename = \"width2/width2.torchparams\"\n",
    "supernet = WrappedModel.from_pretrained(\n",
    "    repo_id=repo_id, supernet_filename=supernet_filename, subnet_filename=None\n",
    ")[1]['supernet_model']"
   ]
  },
  {
   "cell_type": "markdown",
   "metadata": {},
   "source": [
    "### Establish the coarse search space\n",
    "\n",
    "The coarse search space is summarized as follows.\n",
    "\n",
    "```python\n",
    "cspace = [\n",
    "    [2, 3, 4], # depth\n",
    "    [128, 176, 256, 384, 512], # depth 1\n",
    "    [128, 176, 256, 384, 512], # depth 2\n",
    "    [128, 176, 256, 384, 512], # depth 3\n",
    "    [128, 176, 256, 384, 512], # depth 4\n",
    "    [128, 176, 256, 384, 512], # depth 5\n",
    "    [1, 3, 5], # depth 1\n",
    "    [1, 3, 5], # depth 2\n",
    "    [1, 3, 5], # depth 3\n",
    "    [1, 3, 5], # depth 4\n",
    "    [1, 3, 5], # depth 5\n",
    "    [384, 536, 768, 1152, 1536] # cat layer\n",
    "]\n",
    "```"
   ]
  },
  {
   "cell_type": "code",
   "execution_count": 4,
   "metadata": {},
   "outputs": [],
   "source": [
    "cspace = supernet.module.__S__.space(mode=['kernel', 'depth', 'width1', 'width2'])\n",
    "cpaths = TDNNPath(cspace)"
   ]
  },
  {
   "cell_type": "markdown",
   "metadata": {},
   "source": [
    "### Activate a subnet given a randomly sampled path\n",
    "\n",
    "The random strategy is used in search algorithm. The sampled path is estimated in terms of MACs, parameters, memory, and latency."
   ]
  },
  {
   "cell_type": "code",
   "execution_count": 5,
   "metadata": {},
   "outputs": [
    {
     "name": "stdout",
     "output_type": "stream",
     "text": [
      "Subnet: (3, [384, 384, 256, 512], [5, 5, 5, 3], 384)\n",
      "MACs 1.94G Params 7.55M Memory 29.18 MB Latency 14.89 ms on the cuda:3\n"
     ]
    }
   ],
   "source": [
    "path = cpaths.sample()\n",
    "supernet.config = path\n",
    "\n",
    "input_size = [1, 48000]\n",
    "macs, params = profile(supernet, input_size, device=device)\n",
    "print(f\"Subnet: {path}\")\n",
    "model_size = print_size_of_model(supernet)\n",
    "avg_lat = latency(supernet, input_size, device=device)\n",
    "print(f'MACs {macs} Params {params} Memory {model_size:.2f} MB Latency {avg_lat:.2f} ms on the {device}')"
   ]
  },
  {
   "cell_type": "markdown",
   "metadata": {},
   "source": [
    "### Calibrate the batchnorm along the path\n",
    "\n",
    "We first prepare the training corpus, e.g., the development set of VoxCeleb2, and the augmentation corpus, e.g., the MUSAN and simulated rirs. Next, the batchnorm in the supernet is calibrated along the path via randomly sampled 6000 training utterances.\n",
    "\n",
    "The reset of batchnorm is performed becuase the architectural differences between training paths and the sampled path that results in the mismath of statistics in the batchnorm.\n",
    "\n",
    "Note that the musan corpus is splited as [VoxCeleb trainer](https://github.com/clovaai/voxceleb_trainer)."
   ]
  },
  {
   "cell_type": "code",
   "execution_count": 6,
   "metadata": {},
   "outputs": [
    {
     "name": "stdout",
     "output_type": "stream",
     "text": [
      "Archive:  datalst.zip\n",
      "  inflating: list_test_all2.txt      \n",
      "  inflating: list_test_hard2.txt     \n",
      "  inflating: veri_test2.txt          \n",
      "  inflating: vox2.6000.txt           \n",
      "  inflating: vox2_trainlst.txt       \n"
     ]
    }
   ],
   "source": [
    "!unzip -o datalst.zip"
   ]
  },
  {
   "cell_type": "code",
   "execution_count": 7,
   "metadata": {},
   "outputs": [
    {
     "name": "stdout",
     "output_type": "stream",
     "text": [
      "The number of speakers is 5994\n"
     ]
    },
    {
     "name": "stderr",
     "output_type": "stream",
     "text": [
      "Forward Model: 100%|██████████| 46/46 [00:17<00:00,  2.57it/s]\n"
     ]
    }
   ],
   "source": [
    "vox1_root = \"/workspace/datasets/voxceleb/voxceleb1/\"\n",
    "vox2_root = \"/workspace/datasets/voxceleb/voxceleb2/\"\n",
    "musan_split_root = \"/workspace/datasets/MUSAN/musan_split\"\n",
    "simulated_rirs_root = \"/workspace/datasets/Room_Noise/RIRS_NOISES/simulated_rirs\"\n",
    "\n",
    "vox2_trainlst = \"vox2_trainlst.txt\"\n",
    "wav_len = 96000\n",
    "train, spks = veritrain(listfile=vox2_trainlst, rootdir=vox2_root, num_samples=wav_len)\n",
    "\n",
    "random.shuffle(train.datalst)\n",
    "train.datalst = train.datalst[:6000]\n",
    "\n",
    "aug_wav = augset(musan_path=musan_split_root, rir_path=simulated_rirs_root, num_samples=wav_len)\n",
    "trainset = AugmentedUtterance(train, spks, augment=aug_wav, mode='v2+')\n",
    "train_loader = DataLoader(trainset, batch_size=128, shuffle=True, num_workers=5, drop_last=True)\n",
    "\n",
    "for _ in range(1):\n",
    "    batch_forward(train_loader, supernet, device=device)"
   ]
  },
  {
   "cell_type": "markdown",
   "metadata": {},
   "source": [
    "### Evaluate the subnet on the VoxCeleb1 clean test set\n",
    "\n",
    "The Vox1-O test set is considered to evalute the sampled architecture with the path. We do not use adaptive score normalization and take the whole utterance as an input to extract the speaker embedding."
   ]
  },
  {
   "cell_type": "code",
   "execution_count": 8,
   "metadata": {},
   "outputs": [],
   "source": [
    "def eval_veri(test_loader, network, p_target=0.01, device=\"cpu\", vectors=None):\n",
    "    eer, dcf, vec, scs = veri_validate(test_loader, network, p_target=0.01, device=device, ret_info=True, vectors=vectors)\n",
    "    scs = pandas.DataFrame({'score': scs, 'enroll': test_loader.dataset.enrolls, 'test': test_loader.dataset.tests})\n",
    "    labs = test_loader.dataset.labels\n",
    "    eer = eer[0] * 100\n",
    "    dcf = dcf[0]\n",
    "    return eer, dcf, vec, scs\n",
    "\n",
    "veritesto = \"veri_test2.txt\"\n",
    "veri_testo = veriset(test2=veritesto, all2=None, hard2=None, rootdir=vox1_root, num_samples=0, num_eval=1)[0]\n",
    "testo_loader = DataLoader(veri_testo, batch_size=1, shuffle=False, num_workers=0)"
   ]
  },
  {
   "cell_type": "code",
   "execution_count": 9,
   "metadata": {},
   "outputs": [
    {
     "name": "stderr",
     "output_type": "stream",
     "text": [
      "Extract Vectors: 100%|██████████| 4708/4708 [01:25<00:00, 54.90it/s]\n",
      "Compute Scores: 100%|██████████| 37611/37611 [00:07<00:00, 5169.99it/s]\n"
     ]
    },
    {
     "name": "stdout",
     "output_type": "stream",
     "text": [
      "Evaluate on Vox1-O: * EER/DCF 1.44%/0.152\n"
     ]
    }
   ],
   "source": [
    "eero, dcfo, veco, scso = eval_veri(testo_loader, supernet, device=device)\n",
    "print(f'Evaluate on Vox1-O: * EER/DCF {eero:.2f}%/{dcfo:.3f}')"
   ]
  },
  {
   "cell_type": "markdown",
   "metadata": {},
   "source": [
    "Using the ramdomly sampled path, we evaluate it on the VoxCeleb1 clean test set and obtain the EER to rank the model. To enable evaluation in a batch manner, we can pre-sample a large number of paths correspond to subnets, which can be evaluated in a computationally parallel manner.\n",
    "\n",
    "## Apply model predictive evolutionary algorithm to found the subnet that satifies the specific constraint\n",
    "\n",
    "This section demonstrate that applying model predictive evolutionary algorithm (MPEA) to found the special architecture that meet the specific constraints such as latency. Since the time cost in evaluating the Vox1-O test set is non-trivial, we build a latency table and an accuracy predictor in advance as well as simplify the process of evalution with a probably litte loss in performance to speed up the search.\n",
    "\n",
    "Specifically, the search is performed via python package [geatpy](https://github.com/geatpy-dev/geatpy), which the Genetic and Evolutionary Algorithm Toolbox for Python with high performance. This tool provide high-level interface to user.\n",
    "\n",
    "We present the MPEA as follows.\n",
    "\n",
    "1. Load model and table estimating accuracy and latency\n",
    "2. Define search problem and conduct predictor-based evoluation algorihtm to find the best solution\n",
    "\n",
    "The found subnet will be evaluated in EER, minDCF, MACs, parameters, memory, and latency.\n",
    "\n",
    "### Load table estimating accuracy and latency\n",
    "\n",
    "- Load the GPU latency table and the accuracy predictor\n",
    "- Print Max/Min efficiency\n",
    "\n",
    "**Important Metrics**:\n",
    "\n",
    "- Max/Min MACs   :  83.47M ~ 1.93G\n",
    "- Max/Min Params :  443.97K ~ 7.55M\n",
    "- Max/Min Memory :  1.75MB ~ 28.96MB\n",
    "- Max/Min GPU Latency: 7.77ms ~ 27.96ms "
   ]
  },
  {
   "cell_type": "code",
   "execution_count": 10,
   "metadata": {},
   "outputs": [],
   "source": [
    "lat_gpu = TDNNLatency(\"tdnn8m2g_latency_v100_80_300.yml\")\n",
    "\n",
    "metric = \"EER\"\n",
    "ndims = sum([len(ci) for ci in cspace])\n",
    "space_type = \"Coarse\"\n",
    "acc_pred = AccuracyPredictor(ndims, pretrained=f\"{metric}.{ndims}.{space_type}.pth.tar\", device=device)"
   ]
  },
  {
   "cell_type": "code",
   "execution_count": 11,
   "metadata": {},
   "outputs": [
    {
     "name": "stdout",
     "output_type": "stream",
     "text": [
      "Max/Min MACs\t\t: 83.47M ~ 1.93G\n",
      "Max/Min Params\t\t: 443.97K ~ 7.55M\n",
      "Max/Min Memory\t\t: 1.76MB ~ 28.97MB\n",
      "Max/Min GPU Latency\t: 7.77ms ~ 27.96ms\n"
     ]
    }
   ],
   "source": [
    "a_largest = (4, [512, 512, 512, 512, 512], [5, 5, 5, 5, 5], 1536)\n",
    "a_smallest = (2, [128, 128, 128], [1, 1, 1], 384)\n",
    "input_size = [1, 80, 300]\n",
    "\n",
    "macs_max, params_max = profile(supernet.module.__S__.clone(a_largest), input_size, device=device)\n",
    "macs_min, params_min = profile(supernet.module.__S__.clone(a_smallest), input_size, device=device)\n",
    "memory_max = print_size_of_model(supernet.module.__S__.clone(a_largest))\n",
    "memory_min = print_size_of_model(supernet.module.__S__.clone(a_smallest))\n",
    "latgpu_max = lat_gpu.query(a_largest)\n",
    "latgpu_min = lat_gpu.query(a_smallest)\n",
    "\n",
    "print('Max/Min MACs\\t\\t: {} ~ {}'.format(macs_min, macs_max))\n",
    "print('Max/Min Params\\t\\t: {} ~ {}'.format(params_min, params_max))\n",
    "print('Max/Min Memory\\t\\t: {:.2f}MB ~ {:.2f}MB'.format(memory_min, memory_max))\n",
    "print('Max/Min GPU Latency\\t: {:.2f}ms ~ {:.2f}ms'.format(latgpu_min, latgpu_max))"
   ]
  },
  {
   "cell_type": "markdown",
   "metadata": {},
   "source": [
    "### Define search problem and conduct predictor-based evoluation algorihtm to find the best solution\n",
    "\n",
    "This problem is to optimize the accuracy under the custom constraint.\n",
    "\n",
    "Here, `GPU latecny / CPU latency / MACs / Params`-`threshold` is the upper bound.\n",
    "\n",
    "More details can be found on [Geatpy2](https://github.com/geatpy-dev/geatpy) Github and [Website](http://www.geatpy.com/).\n",
    "\n",
    "The constrained architecture search problem can be solved as follows.\n",
    "\n",
    "```python\n",
    "def ea_solve(target, problem, encode='BG', NIND=50, MAXGEN=200, Pm=0.1, verbose=True):\n",
    "    \"\"\"\n",
    "        Parameters\n",
    "        ----------\n",
    "            encode : Individual Encode\n",
    "            NIND : Population Size\n",
    "            MAXGEN : Maximal Generation\n",
    "            Pm : Mutation Probability\n",
    "            \n",
    "        Return\n",
    "        ------\n",
    "            solution : Best Individual\n",
    "    \"\"\"\n",
    "    ...\n",
    "```\n",
    "\n",
    "- Individual Encode: BG\n",
    "- Population Size: 50\n",
    "- Maximal Generation: 200\n",
    "- Mutation Probability: 0.1\n",
    "\n",
    "#### Problem: Optimize EER/DCF with GPU latency constraint\n",
    "\n",
    "Since the GPU latency is within `7.77ms ~ 27.96ms`, we consider different latency constraints as follows.\n",
    "\n",
    "- Constrant: $\\{8, 9, 10, \\dots, 24, 25\\}$"
   ]
  },
  {
   "cell_type": "code",
   "execution_count": 12,
   "metadata": {},
   "outputs": [
    {
     "data": {
      "application/vnd.jupyter.widget-view+json": {
       "model_id": "83d8f04c5ed24ce4a391c41e73e8734a",
       "version_major": 2,
       "version_minor": 0
      },
      "text/plain": [
       "EER Coarse:   0%|          | 0/18 [00:00<?, ?it/s]"
      ]
     },
     "metadata": {},
     "output_type": "display_data"
    }
   ],
   "source": [
    "class GPULatencyConstraint(MinimizeError):\n",
    "    def __init__(self, arch_codec, acc_pred, lat_table, space_mode='coarse', threshold=50, name='GPULatency'):\n",
    "        MinimizeError.__init__(self, arch_codec, acc_pred, lat_table, space_mode, threshold, name)\n",
    "    \n",
    "    def constraints(self, subnets):\n",
    "        X = subnets\n",
    "        lat = numpy.array([self.lat_table.query((x[0], x[1: 2+x[0]], x[2+x[0]: 3+2*x[0]], x[-1])) for x in X])\n",
    "        exidx = numpy.where(lat >= self.threshold)\n",
    "        return exidx\n",
    "\n",
    "dims = [\"depth\"] + [f\"width{i}\" for i in range(5)] + [f\"kernel{i}\" for i in range(5)] + [\"cat\"]\n",
    "dconfig = {d: cspace[i] for i, d in enumerate(dims)}\n",
    "archcodec = ArchCoder(len(cspace), dconfig, config2d)\n",
    "\n",
    "thresholds = numpy.linspace(8, 25, 18)\n",
    "solutions = []\n",
    "\n",
    "pbar = tqdm(thresholds, desc=f'{metric} {space_type}')\n",
    "for threshold in pbar:\n",
    "    problem = GPULatencyConstraint(archcodec, acc_pred, lat_gpu, space_mode=space_type, threshold=threshold)\n",
    "    solution = ea_solve(metric, problem, MAXGEN=200, verbose=False)\n",
    "    assert solution, f'No solutions! {threshold}'\n",
    "    solution, info = solution    \n",
    "    macs, params = profile(supernet.module.__S__.clone(solution), (1, 80, 300), device=device, format=False)\n",
    "    solutions.append([threshold, solution, macs, params, info['ACC'], info['Latency']])\n",
    "    pbar.set_postfix({metric: info['ACC'], 'Constraint': threshold, 'Latency': info['Latency']})"
   ]
  },
  {
   "cell_type": "code",
   "execution_count": 13,
   "metadata": {},
   "outputs": [
    {
     "data": {
      "image/png": "[encoded data removed]",
      "text/plain": [
       "<Figure size 432x172.8 with 1 Axes>"
      ]
     },
     "metadata": {
      "needs_background": "light"
     },
     "output_type": "display_data"
    }
   ],
   "source": [
    "eer_coarse = numpy.asarray([[s[0], s[-2]] for s in solutions])\n",
    "plt.figure(figsize=(6, 2.4))\n",
    "plt.plot(eer_coarse[:, 0], eer_coarse[:, 1], marker='^', label='Coarse')\n",
    "plt.ylabel('Predicted EER (%)')\n",
    "plt.xlabel('GPU Latency Constraint (ms)')\n",
    "plt.xticks(thresholds[::1])\n",
    "plt.legend()\n",
    "plt.tight_layout()\n",
    "plt.show()"
   ]
  },
  {
   "cell_type": "markdown",
   "metadata": {},
   "source": [
    "#### Reevaluate the performance of the best architecture\n",
    "\n",
    "We conduct the evalution of the found subnet on the VoxCeleb1 clean test set in terms of EER, minDCF $_{0.01}$ , MACs, parameters, memroy, latency. Specifically, to speed up the process of evaluation, short-duration utterances are used to reset batchnorm. Two 4-second temporal segments are sampled at regular intervals from each test utterance. 2 × 2 = 4 cosine similarities are computed from each pair of segments, and their average is used as the score.\n",
    "\n",
    "Note that some architectures require multiple time of reset of batchnorm to make statistics sufficient. Also, the same subnets are removed to reduce the time cost of evaluation."
   ]
  },
  {
   "cell_type": "code",
   "execution_count": 14,
   "metadata": {},
   "outputs": [
    {
     "name": "stdout",
     "output_type": "stream",
     "text": [
      "The number of speakers is 5994\n"
     ]
    }
   ],
   "source": [
    "wav_len = 32000\n",
    "train, spks = veritrain(listfile=vox2_trainlst, rootdir=vox2_root, num_samples=wav_len)\n",
    "random.shuffle(train.datalst)\n",
    "train.datalst = train.datalst[:6000]\n",
    "aug_wav = augset(musan_path=musan_split_root, rir_path=simulated_rirs_root, num_samples=wav_len)\n",
    "trainset = AugmentedUtterance(train, spks, augment=aug_wav, mode='v2+')\n",
    "train_loader = DataLoader(trainset, batch_size=32, shuffle=True, num_workers=5, drop_last=True)\n",
    "\n",
    "eval_len = 64000\n",
    "veri_testo = veriset(test2=veritesto, all2=None, hard2=None, rootdir=vox1_root, num_samples=eval_len, num_eval=2)[0]\n",
    "testo_loader = DataLoader(veri_testo, batch_size=8, shuffle=False, num_workers=0)"
   ]
  },
  {
   "cell_type": "code",
   "execution_count": 15,
   "metadata": {},
   "outputs": [],
   "source": [
    "subnet_indices = []\n",
    "subnet_eval = []\n",
    "for i in range(len(solutions)):\n",
    "    flag = True\n",
    "    for j in range(len(solutions) - 1, i, -1):\n",
    "        flag = False if solutions[i][1] == solutions[j][1] else True\n",
    "        if not flag:\n",
    "            subnet_eval.append(j)\n",
    "            break\n",
    "    if flag:\n",
    "        subnet_indices.append(i)\n",
    "        subnet_eval.append(i)\n",
    "subnets = {i: solutions[i][1] for i in subnet_indices}"
   ]
  },
  {
   "cell_type": "code",
   "execution_count": null,
   "metadata": {},
   "outputs": [],
   "source": [
    "ans = {}\n",
    "for i, path in subnets.items():\n",
    "    print(f'Subnet {i}: {path}')\n",
    "    sampled_subnet = supernet.module.__S__.clone(path)\n",
    "    macs, params = profile(sampled_subnet, (1, 80, 300), device=device)\n",
    "    memory = print_size_of_model(sampled_subnet)\n",
    "    lat = latency(sampled_subnet, (64, 80, 300), device=device)\n",
    "    sampled_subnet = SpeakerModel(sampled_subnet, transform=supernet.module.__T__)\n",
    "    cnt = 0\n",
    "    while True:\n",
    "        batch_forward(train_loader, sampled_subnet, device=device)\n",
    "        eero, dcfo, _, _ = eval_veri(testo_loader, sampled_subnet, device=device)\n",
    "        info = 'Performance: EER {:.2f}% minDCF {:.3f} MACs {} Params {} Memory {:.2f} MB GPU Latency {:.2f} ms'\n",
    "        print(info.format(eero, dcfo, macs, params, memory, lat))\n",
    "        cnt = cnt + 1\n",
    "        if eero < 20 or cnt > 5: break\n",
    "    assert i not in ans, i\n",
    "    ans[i] = [path, '%.2f' % eero, '%.3f' % dcfo, macs, params, '%.2f' % memory, '%.3f' % lat]"
   ]
  },
  {
   "cell_type": "code",
   "execution_count": 17,
   "metadata": {},
   "outputs": [
    {
     "data": {
      "image/png": "[encoded data removed]",
      "text/plain": [
       "<Figure size 432x230.4 with 1 Axes>"
      ]
     },
     "metadata": {
      "needs_background": "light"
     },
     "output_type": "display_data"
    }
   ],
   "source": [
    "eer_coarse_act = numpy.asarray([float(ans[i][1]) for i in subnet_eval])\n",
    "plt.figure(figsize=(6, 3.2))\n",
    "plt.plot(eer_coarse[:, 0], eer_coarse[:, 1], marker='^', label='Coarse Predict EER')\n",
    "plt.plot(eer_coarse[:, 0], eer_coarse_act, marker='s', label='Coarse Actual EER')\n",
    "plt.ylabel('EER (%)')\n",
    "plt.xlabel('GPU Latency Constraint (ms)')\n",
    "plt.xticks(thresholds[::1])\n",
    "plt.legend()\n",
    "plt.tight_layout()\n",
    "plt.show()"
   ]
  },
  {
   "cell_type": "markdown",
   "metadata": {},
   "source": [
    "## Conclusion\n",
    "\n",
    "This tutorial show how to sample a subnet from the trained supernet via the architectural configuration. The search process is conducted in the coarse space via model preditive evolutionary algorithm, which provides a insight to how to employ the EfficientTDNN in a more realistic situation while considering the computational constraints.\n",
    "\n",
    "Please, cite EfficientTDNN if you use it for your research or business.\n",
    "\n",
    "```bibtex\n",
    "@article{speechbrain,\n",
    "  title={{EfficientTDNN}: Efficient Architecture Search for Speaker Recognition in the Wild},\n",
    "  author={Rui Wang and Zhihua Wei and Haoran Duan and Shouling Ji and Zhen Hong},\n",
    "  year={2021},\n",
    "  eprint={2103.13581},\n",
    "  archivePrefix={arXiv},\n",
    "  primaryClass={eess.AS},\n",
    "  note={arXiv:2103.13581}\n",
    "}\n",
    "```"
   ]
  }
 ],
 "metadata": {
  "interpreter": {
   "hash": "767d51c1340bd893661ea55ea3124f6de3c7a262a8b4abca0554b478b1e2ff90"
  },
  "kernelspec": {
   "display_name": "Python 3.7.9 64-bit",
   "language": "python",
   "name": "python3"
  },
  "language_info": {
   "codemirror_mode": {
    "name": "ipython",
    "version": 3
   },
   "file_extension": ".py",
   "mimetype": "text/x-python",
   "name": "python",
   "nbconvert_exporter": "python",
   "pygments_lexer": "ipython3",
   "version": "3.7.9"
  },
  "orig_nbformat": 4
 },
 "nbformat": 4,
 "nbformat_minor": 2
}
